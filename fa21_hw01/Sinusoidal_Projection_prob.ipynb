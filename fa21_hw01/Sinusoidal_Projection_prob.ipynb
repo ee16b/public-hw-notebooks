{
 "cells": [
  {
   "cell_type": "markdown",
   "metadata": {},
   "source": [
    "# Dimension Reduction via Sinusoidal Projection\n",
    "\n",
    "### EECS 16B: Designing Information Devices and Systems II"
   ]
  },
  {
   "cell_type": "markdown",
   "metadata": {},
   "source": [
    "# Motivation\n",
    "\n",
    "In this python exercise we will demonstrate how projections can be beneficial in classification. We will use the simple model where we have noisy observations from (known) sinusoidal signals, and try to classify observations to the true sinusoids. "
   ]
  },
  {
   "cell_type": "code",
   "execution_count": null,
   "metadata": {
    "scrolled": false
   },
   "outputs": [],
   "source": [
    "%matplotlib inline\n",
    "import matplotlib.pyplot as plt\n",
    "import numpy as np\n",
    "import scipy.io\n",
    "import scipy.cluster\n",
    "from mpl_toolkits.mplot3d import Axes3D"
   ]
  },
  {
   "cell_type": "markdown",
   "metadata": {},
   "source": [
    "## Creating data\n",
    "\n",
    "In our example, we have known sinusoids of frequency $1,3,5$ Hz. In our demo, we will suppose there are three true sinusoids. For each of the frequencies, we observe $100$ noisy data vectors (so $300$ total), each consisting of a set of $1000$ sampled points. The observations are corrupted by noise scaled by $\\sigma$. You may play around with these values to see what happens.\n",
    "\n",
    "These noisy samples are stored in the variable `sinusoids`. This variable will have `num_sinusoids * num_data` rows and `sample` columns.\n",
    "\n",
    "This means that the row vectors of `sinusoids` will be all of the samples of a sine wave at some frequency, with added noise."
   ]
  },
  {
   "cell_type": "code",
   "execution_count": null,
   "metadata": {},
   "outputs": [],
   "source": [
    "num_sinusoids = 3 # number of true sinusoids\n",
    "num_data = 100 # number of data vectors for each sinusoid\n",
    "Fs = 1000 # sample rate\n",
    "sample = 1*Fs # number of samples\n",
    "sigma = 1.0 # noise scale\n",
    "\n",
    "def generate_sinusoids(num_sinusoids, num_data, Fs, sample, sigma):\n",
    "    \"\"\"\n",
    "    Generates noisy sinusoidal data for us. Hint: use np.random.normal() function with loc = 0.0 and scale = sigma for noise.\n",
    "    inputs:\n",
    "      num_sinusoids: number of true sinusoids\n",
    "      num_data: number of data vectors for each sinusoid\n",
    "      Fs: sample rate\n",
    "      sample: number of samples\n",
    "      sigma: # noise scale\n",
    "    returns:\n",
    "      presorted: a list of num_sinusoids lists, with each sublist having num_data amount of noisy sinusoidal vectors\n",
    "    \"\"\"\n",
    "    presorted = []\n",
    "    for k in range(num_sinusoids):\n",
    "        f = 2*k+1 # Frequency of Signal\n",
    "        data = []\n",
    "        for i in range(num_data):\n",
    "            x = np.arange(sample)\n",
    "            vec = np.sin(2 * np.pi * f * x / Fs) + np.random.normal(loc=0.0, scale=sigma, size=[sample,])\n",
    "            data.append(vec)\n",
    "        presorted.append(data)\n",
    "    return presorted\n",
    "\n",
    "presorted = generate_sinusoids(num_sinusoids, num_data, Fs, sample, sigma)\n",
    "sinusoids = np.concatenate([np.array(i) for i in presorted])"
   ]
  },
  {
   "cell_type": "markdown",
   "metadata": {},
   "source": [
    "We also generate true sinusoid values."
   ]
  },
  {
   "cell_type": "code",
   "execution_count": null,
   "metadata": {},
   "outputs": [],
   "source": [
    "true_list = generate_sinusoids(num_sinusoids, 1, Fs, sample, 0.0)\n",
    "true_sinusoid = np.concatenate([np.array(i) for i in true_list])"
   ]
  },
  {
   "cell_type": "markdown",
   "metadata": {},
   "source": [
    "## Plotting our observations\n",
    "\n",
    "Let's visualize the data we generated. In the first plot, we plot a picture of $10$ randomly selected sinusoidal shapes. In the following plots, we plot the noisy waveforms for each of the true sinusoids, and plot the average waveforms."
   ]
  },
  {
   "cell_type": "code",
   "execution_count": null,
   "metadata": {
    "scrolled": false
   },
   "outputs": [],
   "source": [
    "# randomly choose 10 waveforms to plot\n",
    "indices = np.random.choice(len(sinusoids), size = 10, replace = False)\n",
    "x_lims = [i/Fs for i in range(0, sample)]\n",
    "for waveforms in sinusoids[indices]:\n",
    "    plt.plot(x_lims, waveforms)\n",
    "plt.xlim((0,sample/Fs))\n",
    "plt.title('10 random sinusoidal shapes')\n",
    "plt.figure()\n",
    "\n",
    "# plot the 3 sinusoidal shapes based on the presorted data\n",
    "for i, waveforms in enumerate(presorted):\n",
    "    plt.title('Waveforms of sinusoidal with frequency '+str(2*i+1)+' Hz')\n",
    "    for data in waveforms:\n",
    "        plt.plot(x_lims, data)\n",
    "        plt.xlim((0,sample/Fs))\n",
    "    plt.figure()\n",
    "    plt.title('Average waveform of sinusoidal with frequency '+str(2*i+1)+' Hz')\n",
    "    plt.plot(x_lims, np.mean(waveforms, axis=0))\n",
    "    plt.xlim((0,sample/Fs))\n",
    "    plt.plot(x_lims, true_sinusoid[i], label = 'True Sinusoid')\n",
    "    plt.legend()\n",
    "    plt.figure()\n",
    "    "
   ]
  },
  {
   "cell_type": "markdown",
   "metadata": {},
   "source": [
    "## Verifying Orthogonality\n",
    "We have our three true sinusoids stored in the `true_sinusoid` variable. Let us verify that these three sinusoids are orthogonal. "
   ]
  },
  {
   "cell_type": "code",
   "execution_count": null,
   "metadata": {},
   "outputs": [],
   "source": [
    "# Verify that the 1Hz is orthongonal to the 3Hz Sine-Wave\n",
    "inner_prod_1_3 = np.inner(true_sinusoid[0], true_sinusoid[1])\n",
    "print(f'Inner product of 1-Hz with 3-Hz sine waves = {inner_prod_1_3}')\n",
    "\n",
    "# Verify that the 3Hz is orthongonal to the 5Hz Sine-Wave\n",
    "inner_prod_3_5 = np.inner(true_sinusoid[1], true_sinusoid[2])\n",
    "print(f'Inner product of 3-Hz with 5-Hz sine waves = {inner_prod_3_5}')\n",
    "\n",
    "# Verify that the 1Hz is orthongonal to the 5Hz Sine-Wave\n",
    "inner_prod_1_5 = np.inner(true_sinusoid[0], true_sinusoid[2])\n",
    "print(f'Inner product of 1-Hz with 5-Hz sine waves = {inner_prod_1_5}')"
   ]
  },
  {
   "cell_type": "markdown",
   "metadata": {},
   "source": [
    "We notice that each inner product is zero (close to zero due to floating point error). That is, the rows of `true_sinusoid` are all orthogonal to one another.\n",
    "\n",
    "There are many resources explaining why this is true. We will ask you to blindly take this as a fact for now, this should become clear after learning about the DFT. "
   ]
  },
  {
   "cell_type": "markdown",
   "metadata": {},
   "source": [
    "## Projecting data onto the sinusoidal waves\n",
    "\n",
    "One way to classify data is to project data onto lower dimensions in hope of having a nice separation in a lower dimension. In this part, we observe what happens when we project the data points onto the linear space spanned by the known sinusoids. \n",
    "\n",
    "What does projection mean in this case? In our example, we have $3$ vectors corresponding to the three true frequencies. Let's call them $\\vec{v_1}$, $\\vec{v_2}$ and $\\vec{v_3}$ (these are the rows of `true_sinusoid`). For some noisy vector $\\vec{y}$, we would want to find the best representation of $\\vec{y}$ in terms of linear combinations of $\\vec{v_1}$, $\\vec{v_2}$ and $\\vec{v_3}$. In other words, we would like to find the coefficients $a_1$, $a_2$ and $a_3$ such that\n",
    "$$\n",
    "    \\vec{y} \\approx a_1\\vec{v_1} + a_2\\vec{v_2} + a_3\\vec{v_3}.\n",
    "$$\n",
    "\n",
    "The coefficient $a_1$ can be found by finding the inner product of $y$ and $v_1$ and normalizing:\n",
    "$$\n",
    "    a_1 = \\frac{\\langle y, \\vec{v_1}\\rangle}{\\langle \\vec{v_1}, \\vec{v_1}\\rangle}.\n",
    "$$\n",
    "\n",
    "Similarly, we can find $a_2$ and $a_3$ in this fashion."
   ]
  },
  {
   "cell_type": "markdown",
   "metadata": {},
   "source": [
    "Next, we define a function to calculate the projections."
   ]
  },
  {
   "cell_type": "code",
   "execution_count": null,
   "metadata": {},
   "outputs": [],
   "source": [
    "def projection(true_sinusoid, sinusoids):\n",
    "    \"\"\"\n",
    "    Projects noisy sinusoids onto the true sinusoids\n",
    "    inputs:\n",
    "      true_sinusoid (3 X 1000 numpy array): vectors corresponding to the true_sinusoid\n",
    "      sinusoids (300 X 1000 numpy array): the noisy observations\n",
    "    returns:\n",
    "      presorted_projected (300 X 3 numpy array): projections of the noisy observations onto the true sinusoids\n",
    "    \"\"\"\n",
    "    presorted_projected = np.zeros((sinusoids.shape[0], true_sinusoid.shape[0]))\n",
    "    rows, cols = presorted_projected.shape\n",
    "    for r in range(rows):\n",
    "        for c in range(cols):\n",
    "            noisy_sig = sinusoids[r]\n",
    "            true_sine = true_sinusoid[c,:]\n",
    "            # TODO: Your code here\n",
    "            # store the projection of coefficient of noisy_sig onto true_sine in `proj`\n",
    "            proj = ?\n",
    "            # ---------------------------------------------------------------------------------\n",
    "            presorted_projected[r,c] = proj\n",
    "    return presorted_projected\n",
    "\n",
    "presorted_projected = projection(true_sinusoid, sinusoids)"
   ]
  },
  {
   "cell_type": "markdown",
   "metadata": {},
   "source": [
    "Let's plot out our projections onto a 3D plot to see how they behave."
   ]
  },
  {
   "cell_type": "code",
   "execution_count": null,
   "metadata": {},
   "outputs": [],
   "source": [
    "def plot_3D(data, view_from_top=False):\n",
    "    \"\"\" \n",
    "    Takes list of arrays (x, y, z) coordinate triples and plots 3D map\n",
    "    input:\n",
    "      data: num_sinusoids*num_data*num_sinusoids size array of data\n",
    "      view_from_top: boolean function determining if we plot 3D plot from top\n",
    "    \"\"\"\n",
    "    fig=plt.figure(figsize=(10,7))\n",
    "    ax = fig.add_subplot(111, projection='3d')\n",
    "    colors = ['#0000ff', '#00ff00', '#ff0000']\n",
    "    lables = ['1-Hz Sinusoids Projections', '3-Hz Sinusoids Projections', '5-Hz Sinusoids Projections']\n",
    "    for dat, color, lab in zip(data, colors, lables):\n",
    "        Axes3D.scatter(ax, *dat.T, s=1, c=color, alpha=1.0, label=lab)\n",
    "    if view_from_top:\n",
    "        ax.view_init(elev=90.,azim=0) # Move perspective to view from top\n",
    "    ax.set_xlabel('a1')\n",
    "    ax.set_ylabel('a2')\n",
    "    ax.set_zlabel('a3')\n",
    "    ax.legend(loc='lower right')\n",
    "\n",
    "def projection_plot(num_sinusoids, presorted_projected):\n",
    "    \"\"\" \n",
    "    Plots 3D projection using data from presorted_projected and the plot_3D function\n",
    "    input:\n",
    "      num_sinusoids: number of true frequencies\n",
    "      presorted_projected: array of projected values\n",
    "    \"\"\"\n",
    "    plot_data = []\n",
    "    for j in range(num_sinusoids):\n",
    "        plot_data.append(presorted_projected[j*num_data:(j+1)*num_data])\n",
    "\n",
    "    plot_3D(np.array(plot_data), False)\n",
    "    plt.title('Presorted data projected to 3 sinusoidal components')\n",
    "\n",
    "    plot_3D(np.array(plot_data), True)\n",
    "    plt.title('Top View: Presorted data projected to 3 sinusoidal components')\n",
    "\n",
    "projection_plot(num_sinusoids, presorted_projected)"
   ]
  },
  {
   "cell_type": "markdown",
   "metadata": {},
   "source": [
    "## Classifying noisy data\n",
    "\n",
    "From the previous part, we see that after projection, each projected noisy data has one index that is much larger  than the other two indices. We can use this as our classification algorithm. "
   ]
  },
  {
   "cell_type": "code",
   "execution_count": null,
   "metadata": {},
   "outputs": [],
   "source": [
    "def classify(projections):\n",
    "    \"\"\"\n",
    "    Classifies projections based on largest indices; for example, if there are 3 true frequencies, return 0, 1 or 2 if the largest indice is in the 0th, 1st or 2nd position respectively\n",
    "    input: \n",
    "      projections (300 X 3 numpy array): array of projected values\n",
    "    returns:\n",
    "      ind (300 numpy array): array of max indices in each row. \n",
    "    \"\"\"\n",
    "    ind = np.zeros(projections.shape[0])\n",
    "    for i in range(len(ind)):\n",
    "        a1_a2_a3 = projections[i]\n",
    "        # TODO: Your code here\n",
    "        # Hint: Think about using the function np.argmax\n",
    "        ind[i] = ?\n",
    "        # ------------------------------------------------------------------------------------------\n",
    "    return ind\n",
    "\n",
    "classifications = classify(presorted_projected)\n",
    "\n",
    "def num_errors(num_sinusoids, classifications):\n",
    "    \"\"\"\n",
    "    Returns number of errors between our classification and the true classes\n",
    "    input:\n",
    "      num_sinusoids: number of true frequencies\n",
    "      classifications: vector of classifications\n",
    "    output:\n",
    "      error: number of misclassifications\n",
    "    \"\"\"\n",
    "    # Remember our classification is in terms of indices. To compare this classification with the true frequencies, we create a representation of true class in terms of indices\n",
    "    true_class = []\n",
    "    for j in range(num_sinusoids):\n",
    "        true_class = true_class + [j]*num_data\n",
    "    ans = sum(i != j for i, j in zip(classifications, true_class))\n",
    "    return ans\n",
    "\n",
    "print(\"Number of errors in classification:\", num_errors(num_sinusoids, classifications), \"/\", num_sinusoids*num_data)    "
   ]
  },
  {
   "cell_type": "markdown",
   "metadata": {},
   "source": [
    "## Conclusion\n",
    "\n",
    "Knowing the right dimension to project onto can be useful for many classification tasks. In our setting, we were already given the true sinusoidal values. However, in a practical setting this information is often not readily available to us. In the latter parts of the class we will learn other methods that can help us tackle this issue.\n",
    "\n",
    "If you played with the noise values, you will also notice that with large enough noise, this method will not work. This is intuitive since we start out with sinusoidal signals with magnitude at most 1. If we add large enough noise, then it will be very hard to distinguish true signal from noise. "
   ]
  },
  {
   "cell_type": "code",
   "execution_count": null,
   "metadata": {},
   "outputs": [],
   "source": []
  }
 ],
 "metadata": {
  "anaconda-cloud": {},
  "kernelspec": {
   "display_name": "Python 3",
   "language": "python",
   "name": "python3"
  },
  "language_info": {
   "codemirror_mode": {
    "name": "ipython",
    "version": 3
   },
   "file_extension": ".py",
   "mimetype": "text/x-python",
   "name": "python",
   "nbconvert_exporter": "python",
   "pygments_lexer": "ipython3",
   "version": "3.7.4"
  }
 },
 "nbformat": 4,
 "nbformat_minor": 1
}
