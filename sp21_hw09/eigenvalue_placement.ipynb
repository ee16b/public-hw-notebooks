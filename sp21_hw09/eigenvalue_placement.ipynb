{
 "cells": [
  {
   "cell_type": "markdown",
   "metadata": {},
   "source": [
    "# Eigenvalue Placement and Stability"
   ]
  },
  {
   "cell_type": "code",
   "execution_count": null,
   "metadata": {},
   "outputs": [],
   "source": [
    "import numpy as np\n",
    "import matplotlib.pyplot as plt\n",
    "import matplotlib.animation as animation\n",
    "from numpy import linalg as LA\n",
    "%matplotlib inline"
   ]
  },
  {
   "cell_type": "markdown",
   "metadata": {},
   "source": [
    "#### (d)  Evolution of states due to control\n",
    "Here, we set the the values of the state transition matrices and assign the gaussian error. You can use different kinds of error and check if it changes the behavior of the norm. Take the input $u[t]$ to be equal to zero for this case. Finally, we'll evaluate the evolution of $x[t]$ for a gaussian error\n",
    "$\\vec{x}[t+1] = A\\vec{x}[t] + w[t]$"
   ]
  },
  {
   "cell_type": "code",
   "execution_count": null,
   "metadata": {},
   "outputs": [],
   "source": [
    "# Define system matrices\n",
    "A = np.array([[-2, 2],[-2, 3]])\n",
    "B=np.array([[1], [1]]) \n",
    "# Check the eigenvalue of matrix A. The eigenvalues will determine if the system is stable or not\n",
    "print(\"A eigenvalues:\\n\", LA.eigvals(A)) \n",
    "\n",
    "# No. of time steps\n",
    "t0=100\n",
    "\n",
    "# Random error input with Gaussian\n",
    "# Create an array of size t0 composed of random numbers with a Gaussian distribution of mu = 0 and sigma = 1. \n",
    "mu,sigma=0,1 # define mean and standard deviation\n",
    "w=np.random.normal(mu, sigma, t0) # Assign the error\n",
    "\n",
    "# Here, we define the initial state x0 to answer part (g) and check if the initial condition has \n",
    "# any effect on the evolution of the state. \n",
    "\n",
    "# Define initial state \n",
    "# BEGIN STUDENT: Assign the initial state of the matrix\n",
    "x0= #Student: Pick an initial state of the system. You can change it to see if the ouput changes\n",
    "# END STUDENT: \n",
    "x=x0\n",
    "normw = np.zeros(t0)\n",
    "normx = np.zeros(t0)\n",
    "\n",
    "# Finally, to complete (h) we evaluate the evolution of the state $\\vec{x}[t]$ with time and \n",
    "# find the norm of the state $\\vec{x}[t]$ and the error w[t] as a function of time\n",
    "\n",
    "# BEGIN Student: Compute the state evolution\n",
    "for t in range(t0):\n",
    "    x= #Student: Compute the state evolution $\\vec{x}[t+1] = A\\vec{x}[t] + w[t]$\n",
    "    normw[t]= #Student: Calculate the norm of error at a given time\n",
    "    normx[t]= #Student: Calculate the norm of the state at a given time\n",
    "# END STUDENT\n",
    "\n",
    "#Plotting the norm of w(t) and x(t)\n",
    "plt.plot(normw,linewidth=2)\n",
    "plt.ylabel('|w[t]|',fontsize =30)\n",
    "plt.xlabel('t',fontsize =30)\n",
    "\n",
    "plt.figure()\n",
    "plt.plot(normx,linewidth=2)\n",
    "plt.ylabel('|x[t]|',fontsize =30)\n",
    "plt.xlabel('t',fontsize =30)"
   ]
  },
  {
   "cell_type": "markdown",
   "metadata": {},
   "source": [
    "#### (e) Feedback to stablize the system\n",
    "Now we will add feedback to the system. Assign the matrix $F = [f_1, f_2]$ calculate in part (c) of the problem to check if the state becomes bounded over time. Then we'll calculate the new state evolution as a function of time and check if the norm changes."
   ]
  },
  {
   "cell_type": "code",
   "execution_count": null,
   "metadata": {},
   "outputs": [],
   "source": [
    "#BEGIN STUDENT: Assign a feedback matrix F = [f1 f2] And calculate the closed loop state transition matrix A1\n",
    "F= #Student: Assign the value of F =[f1 f2]\n",
    "A_cl = #Student: Assign A_cl = A + BF\n",
    "#END STUDENT:\n",
    "print(\"A_cl:\\n\", A_cl)\n",
    "print(\"A_cl eigenvalues:\\n\", LA.eigvals(A_cl))\n",
    "\n",
    "# Here we calculate the evolution of state $\\vec{x}[t] for the system with feedback\n",
    "x=x0\n",
    "for t in range(t0):\n",
    "    x=np.dot(A_cl,x)+w[t] #Compute the state evolution $\\vec{x}[t+1] = A_cl\\vec{x}[t] + w[t]$\n",
    "    normx[t]=LA.norm(x) # Compute norm of x\n",
    "\n",
    "# Finally, we plot the state evolution of the system with feedback, to see that it no longer diverges\n",
    "plt.plot(normx,linewidth=2) \n",
    "plt.ylabel('|x[t]|',fontsize =30)\n",
    "plt.xlabel('t',fontsize =30)"
   ]
  },
  {
   "cell_type": "code",
   "execution_count": null,
   "metadata": {},
   "outputs": [],
   "source": []
  }
 ],
 "metadata": {
  "kernelspec": {
   "display_name": "Python 3",
   "language": "python",
   "name": "python3"
  },
  "language_info": {
   "codemirror_mode": {
    "name": "ipython",
    "version": 3
   },
   "file_extension": ".py",
   "mimetype": "text/x-python",
   "name": "python",
   "nbconvert_exporter": "python",
   "pygments_lexer": "ipython3",
   "version": "3.8.5"
  }
 },
 "nbformat": 4,
 "nbformat_minor": 1
}
