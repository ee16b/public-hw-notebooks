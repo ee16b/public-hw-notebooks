{
 "cells": [
  {
   "cell_type": "code",
   "execution_count": null,
   "metadata": {},
   "outputs": [],
   "source": [
    "import numpy as np\n",
    "from scipy.linalg import fractional_matrix_power\n",
    "import matplotlib.pyplot as plt\n",
    "from matplotlib.patches import Rectangle\n",
    "from matplotlib import animation"
   ]
  },
  {
   "cell_type": "markdown",
   "metadata": {},
   "source": [
    "This notebook will help you with the numerical calculations for **Q6. Segway Tours** of HW13."
   ]
  },
  {
   "cell_type": "markdown",
   "metadata": {},
   "source": [
    "## Q6b"
   ]
  },
  {
   "cell_type": "code",
   "execution_count": null,
   "metadata": {},
   "outputs": [],
   "source": [
    "# define constants\n",
    "m = 1\n",
    "M = 10\n",
    "g = 10\n",
    "l = 1\n",
    "k = 0.1\n",
    "Delta = 1\n",
    "\n",
    "# define A and \\vec{b}\n",
    "A = np.array([[0, 1, 0, 0],\n",
    "              [0, -k/M, -(m*g)/M, 0],\n",
    "              [0, 0, 0, 1],\n",
    "              [0, k/(M*l), ((M+m)*g)/(M*l), 0]])\n",
    "b = np.array([[0], [1/M], [0], [-1/(M*l)]])"
   ]
  },
  {
   "cell_type": "code",
   "execution_count": null,
   "metadata": {},
   "outputs": [],
   "source": [
    "# Eigendecomposition of A\n",
    "eigs, V = np.linalg.eig(A)\n",
    "V_inv = np.linalg.inv(V)\n",
    "\n",
    "# Convert to discrete time parameters A_d and \\vec{b}_d\n",
    "Lambda_d = np.diag(np.exp(eigs * Delta))\n",
    "A_d = V @ Lambda_d @ V_inv\n",
    "\n",
    "num = np.exp(eigs * Delta) - 1\n",
    "diag = np.ones_like(eigs) * Delta\n",
    "for idx, ele in enumerate(eigs):\n",
    "    if ele:\n",
    "        diag[idx] = num[idx] / ele\n",
    "M_d = np.diag(diag)\n",
    "b_d = V @ M_d @ V_inv @ b\n",
    "\n",
    "print(f'A_d={A_d}')\n",
    "print(f'b_d={b_d}')"
   ]
  },
  {
   "cell_type": "markdown",
   "metadata": {},
   "source": [
    "## Q6c: Controllability"
   ]
  },
  {
   "cell_type": "code",
   "execution_count": null,
   "metadata": {},
   "outputs": [],
   "source": [
    "Ab = A_d @ b_d\n",
    "A2b = A_d @ Ab\n",
    "A3b = A_d @ A2b\n",
    "### BEGIN STUDENT\n",
    "C = np.hstack([?, ?, ?, ?])\n",
    "### END STUDENT\n",
    "\n",
    "rank_C = np.linalg.matrix_rank(C)\n",
    "print(f'Rank of controllability matrix is {rank_C}')\n",
    "print(f'C={C}')"
   ]
  },
  {
   "cell_type": "markdown",
   "metadata": {},
   "source": [
    "## Q6d and Q6e: Find input control sequence"
   ]
  },
  {
   "cell_type": "code",
   "execution_count": null,
   "metadata": {},
   "outputs": [],
   "source": [
    "state_final = np.array([[0], [0], [0], [0]])\n",
    "state_initial = np.array([[-2], [3.1], [0.3], [-0.6]])  # 6d: linearization is valid\n",
    "#state_initial = np.array([[-2], [3.1], [3.3], [-0.6]])  # 6e: linearization is not valid\n",
    "A4 = A_d @ A_d @ A_d @ A_d\n",
    "\n",
    "### BEGIN STUDENT\n",
    "u_d = np.linalg.solve(?, ?)\n",
    "### END STUDENT\n",
    "print(f'u_d={u_d}')"
   ]
  },
  {
   "cell_type": "markdown",
   "metadata": {},
   "source": [
    "## Set up simulation (taken from 16A setup)"
   ]
  },
  {
   "cell_type": "markdown",
   "metadata": {},
   "source": [
    "### Preamble"
   ]
  },
  {
   "cell_type": "markdown",
   "metadata": {},
   "source": [
    "This function will take care of animating the segway. You do not have to understand the code in this cell for this HW."
   ]
  },
  {
   "cell_type": "code",
   "execution_count": null,
   "metadata": {},
   "outputs": [],
   "source": [
    "# frames per second in simulation\n",
    "fps = 20\n",
    "# length of the segway arm/stick\n",
    "stick_length = 20.\n",
    "\n",
    "def animate_segway(t, states, controls, length):\n",
    "    #Animates the segway\n",
    "    \n",
    "    # Set up the figure, the axis, and the plot elements we want to animate\n",
    "    fig = plt.figure()\n",
    "    \n",
    "    # some config\n",
    "    segway_width = 10.4\n",
    "    segway_height = 10.2\n",
    "    \n",
    "    # x coordinate of the segway stick\n",
    "    segwayStick_x = np.add(states[:, 0], length * np.sin(states[:, 2]))\n",
    "    segwayStick_y = length * np.cos(states[:, 2])\n",
    "    \n",
    "    # set the limits\n",
    "    xmin = min(np.around(states[:, 0].min() - segway_width / 2.0, 1), np.around(segwayStick_x.min(), 1))\n",
    "    xmax = max(np.around(states[:, 0].max() + segway_width / 2.0, 1), np.around(segwayStick_x.max(), 1))\n",
    "    \n",
    "    # create the axes\n",
    "    ax = plt.axes(xlim=(xmin-length, xmax+length), ylim=(-length * 1.2, length * 1.2), aspect='equal')\n",
    "    \n",
    "    # display the current time\n",
    "    time_text = ax.text(0.05, 0.9, 'time', transform=ax.transAxes)\n",
    "    \n",
    "    # display the current control\n",
    "    control_text = ax.text(0.05, 0.8, 'control', transform=ax.transAxes)\n",
    "    \n",
    "    # create rectangle for the segway\n",
    "    rect = Rectangle([states[0, 0] - segway_width / 2.0, -segway_height / 2],\n",
    "        segway_width, segway_height, fill=True, color='gold', ec='blue')\n",
    "    ax.add_patch(rect)\n",
    "    \n",
    "    # blank line for the stick with o for the ends\n",
    "    stick_line, = ax.plot([], [], lw=2, marker='o', markersize=6, color='blue')\n",
    "\n",
    "    # vector for the control (force)\n",
    "    force_vec = ax.quiver([],[],[],[],angles='xy',scale_units='xy',scale=1)\n",
    "\n",
    "    # initialization function: plot the background of each frame\n",
    "    def init():\n",
    "        time_text.set_text('')\n",
    "        control_text.set_text('')\n",
    "        rect.set_xy((0.0, 0.0))\n",
    "        stick_line.set_data([], [])\n",
    "        return time_text, rect, stick_line, control_text\n",
    "\n",
    "    # animation function: update the objects\n",
    "    def animate(i):\n",
    "        time_text.set_text('time = {:2.2f}'.format(t[i]))\n",
    "        control_text.set_text('force = {:2.3f}'.format(controls[i]))\n",
    "        rect.set_xy((states[i, 0] - segway_width / 2.0, -segway_height / 2))\n",
    "        stick_line.set_data([states[i, 0], segwayStick_x[i]], [0, segwayStick_y[i]])\n",
    "        return time_text, rect, stick_line, control_text\n",
    "\n",
    "    # call the animator function\n",
    "    anim = animation.FuncAnimation(fig, animate, frames=len(t), init_func=init,\n",
    "            interval=1000/fps, blit=False, repeat=False)\n",
    "    return anim\n",
    "    #plt.show()"
   ]
  },
  {
   "cell_type": "markdown",
   "metadata": {},
   "source": [
    "### Simulation: Rerun this cell whenever you change any state or constants"
   ]
  },
  {
   "cell_type": "markdown",
   "metadata": {},
   "source": [
    "You do not have to understand the code in this cell for this HW."
   ]
  },
  {
   "cell_type": "code",
   "execution_count": null,
   "metadata": {},
   "outputs": [],
   "source": [
    "state0 = np.squeeze(state_initial)\n",
    "controls = np.flip(np.squeeze(u_d))\n",
    "\n",
    "# This will add an extra couple of seconds to the simulation after the input controls with no control\n",
    "# the effect of this is just to show how the system will continue after the controller \"stops controlling\"\n",
    "controls = np.append(controls,[0, 0])\n",
    "\n",
    "# number of steps in the simulation\n",
    "nr_steps = controls.shape[0]\n",
    "nr_states = 4\n",
    "\n",
    "# We now compute finer dynamics and control vectors for smoother visualization\n",
    "Afine = fractional_matrix_power(A_d,(1/fps))\n",
    "Asum = np.eye(nr_states)\n",
    "for i in range(1, fps):\n",
    "    Asum = Asum + np.linalg.matrix_power(Afine,i)\n",
    "    \n",
    "bfine = np.linalg.inv(Asum).dot(np.squeeze(b_d))\n",
    "\n",
    "# We also expand the controls in the \"intermediate steps\" (only for visualization)\n",
    "controls_final = np.outer(controls, np.ones(fps)).flatten()\n",
    "controls_final = np.append(controls_final, [0])\n",
    "\n",
    "# We compute all the states starting from x0 and using the controls\n",
    "states = np.empty([fps*(nr_steps)+1, nr_states])\n",
    "states[0,:] = state0;\n",
    "for stepId in range(1,fps*(nr_steps)+1):\n",
    "    states[stepId, :] = np.dot(Afine,states[stepId-1, :]) + controls_final[stepId-1] * bfine\n",
    "    \n",
    "# Now create the time vector for simulation\n",
    "t = np.linspace(1/fps,nr_steps,fps*(nr_steps),endpoint=True)\n",
    "t = np.append([0], t)"
   ]
  },
  {
   "cell_type": "markdown",
   "metadata": {},
   "source": [
    "### Visualization"
   ]
  },
  {
   "cell_type": "code",
   "execution_count": null,
   "metadata": {},
   "outputs": [],
   "source": [
    "%matplotlib nbagg\n",
    "anim = animate_segway(t, states, controls_final, stick_length)\n",
    "anim"
   ]
  },
  {
   "cell_type": "code",
   "execution_count": null,
   "metadata": {},
   "outputs": [],
   "source": []
  }
 ],
 "metadata": {
  "kernelspec": {
   "display_name": "Python 3",
   "language": "python",
   "name": "python3"
  },
  "language_info": {
   "codemirror_mode": {
    "name": "ipython",
    "version": 3
   },
   "file_extension": ".py",
   "mimetype": "text/x-python",
   "name": "python",
   "nbconvert_exporter": "python",
   "pygments_lexer": "ipython3",
   "version": "3.6.8"
  }
 },
 "nbformat": 4,
 "nbformat_minor": 2
}
