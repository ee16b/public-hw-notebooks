{
 "cells": [
  {
   "cell_type": "markdown",
   "metadata": {},
   "source": [
    "# Inverse Kinematics"
   ]
  },
  {
   "cell_type": "code",
   "execution_count": null,
   "metadata": {
    "collapsed": true
   },
   "outputs": [],
   "source": [
    "import numpy as np\n",
    "import matplotlib.pyplot as plt\n",
    "import matplotlib.animation as animation"
   ]
  },
  {
   "cell_type": "markdown",
   "metadata": {},
   "source": [
    "#Function Definitions\n",
    "This computes $\\vec f(\\vec \\theta)$, which is the function that takes the amount each joint will be rotate and gives us the position of the end effector.  This computation is called forward kinematics."
   ]
  },
  {
   "cell_type": "code",
   "execution_count": null,
   "metadata": {
    "collapsed": true
   },
   "outputs": [],
   "source": [
    "# compute the forward kinematics\n",
    "# r is the length of each joint of the arm; this should be a fixed number\n",
    "# theta is the amount each joint should be rotated\n",
    "# start is the location of the first/root joint of the arm; this vector needs an extra 1 appended to the end\n",
    "def f(r, theta, start):\n",
    "    curPoint = start\n",
    "    points = start\n",
    "    T = np.eye(3,3)\n",
    "    \n",
    "    # here, we go down the arm rotating the current point and moving it down the length of the joint for each joint\n",
    "    for i in range(0, r.size):\n",
    "        # rotation\n",
    "        X = np.array([[np.cos(theta[0,i]), -np.sin(theta[0,i]), 0],\n",
    "                      [np.sin(theta[0,i]), np.cos(theta[0,i]), 0],\n",
    "                      [0, 0, 1]])\n",
    "        T = T @ X\n",
    "        # translation\n",
    "        Z = np.array([[1, 0, r[0,i]],\n",
    "                      [0, 1, 0],\n",
    "                      [0, 0, 1]])\n",
    "        T = T @ Z\n",
    "        # update the current point to the end of the current joint\n",
    "        curPoint = T @ start\n",
    "        points = np.c_[points,curPoint] # keep track of the set of points so we can plot the arm later\n",
    "    return points"
   ]
  },
  {
   "cell_type": "markdown",
   "metadata": {},
   "source": [
    "This computes $\\vec g(\\vec \\theta)$, which is the function that computes the difference between the location of the end effector and our target point $\\vec t$."
   ]
  },
  {
   "cell_type": "code",
   "execution_count": null,
   "metadata": {
    "collapsed": true
   },
   "outputs": [],
   "source": [
    "# r, theta, and start are the same for f\n",
    "# target is a vector indicating the target point we want the end of the arm to be at\n",
    "def g(r, theta, start, target):\n",
    "    points = f(r, theta, start)\n",
    "    pos = points[0:2, [-1]]\n",
    "    return pos - target"
   ]
  },
  {
   "cell_type": "markdown",
   "metadata": {},
   "source": [
    "This computes the Jacobian $J_{\\vec g}(\\vec\\theta)$, which is the 2x4 matrix of partial derivatives of the function $\\vec g(\\vec \\theta)$."
   ]
  },
  {
   "cell_type": "code",
   "execution_count": null,
   "metadata": {
    "collapsed": true
   },
   "outputs": [],
   "source": [
    "# the inputs are the same as g\n",
    "# this computes the Jacobian matrix numerically\n",
    "def Jg(r, theta, start, target):\n",
    "    epsilon = 1e-6\n",
    "    J = np.zeros((2, 0))\n",
    "    for i in range(0, r.size):\n",
    "        # use a central difference to estimate the derivatives\n",
    "        t = theta\n",
    "        t[0,i] = t[0,i] + epsilon\n",
    "        p = g(r, t, start, target)\n",
    "        t = theta\n",
    "        t[0,i] = t[0,i] - epsilon\n",
    "        n = g(r, t, start, target)\n",
    "        J = np.c_[J,(p - n) / (2 * epsilon)]\n",
    "    return J"
   ]
  },
  {
   "cell_type": "markdown",
   "metadata": {},
   "source": [
    "This computes the pseudoinverse of the input matrix.  This is the function that you will be filling in."
   ]
  },
  {
   "cell_type": "code",
   "execution_count": null,
   "metadata": {
    "collapsed": true
   },
   "outputs": [],
   "source": [
    "def pseudoinverse(A):\n",
    "    # Your code here: (a)\n",
    "    U, s, VT =  #STUDENT, use NumPy to compute the compact SVD of A\n",
    "    #print(U)\n",
    "    #print(s)\n",
    "    #print(VT)\n",
    "    ## # End Code #\n",
    "    s_new = np.zeros_like(s)\n",
    "    for i in range(0, s.size):\n",
    "        # Your code here: (b) #STUDENT, invert the not-tiny entries of s here\n",
    "        epsilon = 1e-1\n",
    "        if abs(s[i]) > epsilon:\n",
    "            s_new[i] = \n",
    "        ## # End Code #\n",
    "    # Your code here: (c)\n",
    "    diagS = np.diag(s_new)\n",
    "    Ainv =  #STUDENT, compute the pseudo inverse using U, VT, and the inverted singular values\n",
    "    ## # End Code #\n",
    "    return Ainv"
   ]
  },
  {
   "cell_type": "markdown",
   "metadata": {},
   "source": [
    "This computes the direction we need to move $\\vec \\theta$ to get closer to the target by using Newton's method.  The direction is given by $-J_{\\vec g}(\\vec \\theta)^{\\dagger}\\vec g(\\vec \\theta)$."
   ]
  },
  {
   "cell_type": "code",
   "execution_count": null,
   "metadata": {
    "collapsed": true
   },
   "outputs": [],
   "source": [
    "# x is the current joint rotations\n",
    "# c is g(x)\n",
    "# J is the Jacobian evaluated at x\n",
    "def newton(x, c, J):\n",
    "    delta = - pseudoinverse(J) @ c\n",
    "    return delta"
   ]
  },
  {
   "cell_type": "markdown",
   "metadata": {},
   "source": [
    "This updates $\\vec \\theta$ by adjusting $\\eta$ to decide how far to move $\\vec \\theta$, and we will thus compute the newton step given by $\\theta^{(i+1)}=\\theta^{(i)}-\\eta J_{\\vec g}(\\vec \\theta)^{\\dagger}\\vec g(\\vec \\theta)$.  To compute $\\eta$, we start with $\\eta=1$ and test $\\vec g(\\vec \\theta^{(i+1)})$ is closer to the target.  If it's not, we divide $\\eta$ by 2 and repeat.  If $\\eta$ become small enough and we still haven't found a $\\vec \\theta^{(i+1)}$ that moves the end effector closer to the target, then we stop."
   ]
  },
  {
   "cell_type": "code",
   "execution_count": null,
   "metadata": {
    "collapsed": true
   },
   "outputs": [],
   "source": [
    "# this performs one newton step and estimates eta by starting with eta=1\n",
    "# if the end effector of the arm is moved farther away after this step,\n",
    "# we divide eta by 2 and then repeat until we move closer or if eta is too small\n",
    "def update(theta, r, start, target):\n",
    "    cost = g(r, theta, start, target)\n",
    "    oldCost = np.linalg.norm(cost)\n",
    "    J = Jg(r, theta, start, target)\n",
    "    delta = newton(theta.T, cost, J).T\n",
    "    eta = 1.0\n",
    "    while eta > 1e-4:\n",
    "        cost = g(r, theta + eta * delta, start, target)\n",
    "        temp = np.linalg.norm(cost)\n",
    "        if temp < oldCost:\n",
    "            theta = theta + eta * delta\n",
    "            newCost = temp\n",
    "            break\n",
    "        eta = eta / 2\n",
    "    return theta"
   ]
  },
  {
   "cell_type": "markdown",
   "metadata": {},
   "source": [
    "This puts everything together to compute $\\vec \\theta$ that moves the arm to the target"
   ]
  },
  {
   "cell_type": "code",
   "execution_count": null,
   "metadata": {
    "collapsed": true
   },
   "outputs": [],
   "source": [
    "def IK(thetaStart, r, start, target):\n",
    "    theta = thetaStart\n",
    "    oldCost = np.linalg.norm(g(r, theta, start, target))\n",
    "    newCost = oldCost\n",
    "    iteration = 0\n",
    "    while (newCost < oldCost or iteration < 1) and iteration < 8:\n",
    "        oldCost = newCost\n",
    "        theta = update(theta, r, start, target)\n",
    "        newCost = np.linalg.norm(g(r, theta, start, target))\n",
    "        iteration = iteration + 1\n",
    "    return theta"
   ]
  },
  {
   "cell_type": "markdown",
   "metadata": {},
   "source": [
    "This is a helper function to visualize the arm"
   ]
  },
  {
   "cell_type": "code",
   "execution_count": null,
   "metadata": {
    "collapsed": true
   },
   "outputs": [],
   "source": [
    "def plotArm(r, theta, start, target):\n",
    "    p = f(r, theta, start)\n",
    "    fig = plt.figure()\n",
    "    plt.xlim(-4, 7)\n",
    "    plt.ylim(-4, 7)\n",
    "    plt.plot(target[0,:].T,target[1,:].T,'b-o',markersize=12)\n",
    "    plt.plot(p[0,:].T,p[1,:].T,'r-o',linewidth=4,markersize=8)"
   ]
  },
  {
   "cell_type": "markdown",
   "metadata": {},
   "source": [
    "#Testing"
   ]
  },
  {
   "cell_type": "markdown",
   "metadata": {},
   "source": [
    "This tests your pseudo inverse function in three cases"
   ]
  },
  {
   "cell_type": "code",
   "execution_count": null,
   "metadata": {
    "collapsed": true
   },
   "outputs": [],
   "source": [
    "%matplotlib nbagg\n",
    "\n",
    "# Define the location of the first arm joint and the length of each joint\n",
    "r = np.array([[1.0, 1.0, 1.0, 1.0]])\n",
    "start = np.array([[0],\n",
    "                  [0],\n",
    "                  [1]]) # The one at the end is there for homogeneous coordinates\n",
    "\n",
    "# Test if the arm can reach a target\n",
    "theta = np.array([[-0.16227303, -0.60693046, 0.72069313, 0.70009674]])\n",
    "target = np.array([[2.0],\n",
    "                   [1.6]])\n",
    "theta = IK(theta, r, start, target)\n",
    "plotArm(r, theta, start, target)\n",
    "\n",
    "# Test if the arm can point to a target out of reach\n",
    "theta = np.array([[0.0, 0.0, 0.0, 0.0]])\n",
    "target = np.array([[4.0],\n",
    "                   [4.0]])\n",
    "theta = IK(theta, r, start, target)\n",
    "plotArm(r, theta, start, target)\n",
    "\n",
    "# Test how well the pseudoinverse works with small singular values\n",
    "theta = np.array([[0.0, 0.0, 0.0, 0.0]]) + (np.random.rand(1,4) - 0.5) / 1e6\n",
    "start = np.array([[0],\n",
    "                  [0],\n",
    "                  [1]])\n",
    "target = np.array([[5.0],\n",
    "                   [2.0]])\n",
    "theta = IK(theta, r, start, target)\n",
    "plotArm(r, theta, start, target)"
   ]
  },
  {
   "cell_type": "markdown",
   "metadata": {},
   "source": [
    "This animates the arm reaching for a moving target.  When the target goes out of reach, the arm should point towards the target because that is the closest it can get to the target."
   ]
  },
  {
   "cell_type": "code",
   "execution_count": null,
   "metadata": {
    "collapsed": true
   },
   "outputs": [],
   "source": [
    "# initialize the arm\n",
    "theta = np.array([[0.0, 0.0, 0.0, 0.0]])\n",
    "r = np.array([[1.0, 1.0, 1.0, 1.0]])\n",
    "start = np.array([[0], [0], [1]])\n",
    "\n",
    "# set up the plot\n",
    "fig = plt.figure()\n",
    "ax = plt.axes(xlim=(-4, 4), ylim=(-4, 4), aspect='equal')\n",
    "p = f(r, theta, start)\n",
    "plt.xlim(-1, 4)\n",
    "plt.ylim(-5, 5)\n",
    "line, = plt.plot([], [], 'r-o', linewidth=4, markersize=10)\n",
    "point, = plt.plot([],[],'b-o',markersize=12)\n",
    "angle = 2.0\n",
    "\n",
    "def update_arm(num, r, s):\n",
    "    global angle, theta\n",
    "    angle = np.mod(angle + 0.05,2 * np.pi)\n",
    "    t = np.array([[2.0],\n",
    "                   [4.5 * np.sin(angle)]])\n",
    "    theta = IK(theta, r, s, t)\n",
    "    theta = np.mod(theta, 2 * np.pi)\n",
    "    p = f(r, theta, s)\n",
    "    line.set_data(p[0:2,:])\n",
    "    point.set_data(t)\n",
    "\n",
    "arm_ani = animation.FuncAnimation(fig, update_arm, 200, fargs=(r, start),\n",
    "    interval=1000/12, blit=True)"
   ]
  },
  {
   "cell_type": "code",
   "execution_count": null,
   "metadata": {
    "collapsed": true
   },
   "outputs": [],
   "source": []
  }
 ],
 "metadata": {
  "anaconda-cloud": {},
  "kernelspec": {
   "display_name": "Python 3",
   "language": "python",
   "name": "python3"
  },
  "language_info": {
   "codemirror_mode": {
    "name": "ipython",
    "version": 3
   },
   "file_extension": ".py",
   "mimetype": "text/x-python",
   "name": "python",
   "nbconvert_exporter": "python",
   "pygments_lexer": "ipython3",
   "version": "3.7.3"
  }
 },
 "nbformat": 4,
 "nbformat_minor": 1
}
